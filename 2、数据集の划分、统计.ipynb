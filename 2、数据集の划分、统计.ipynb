{
 "cells": [
  {
   "cell_type": "markdown",
   "metadata": {},
   "source": [
    "<div id=\"top\">包括以下操作：</div>\n",
    "<li>划分数据集。</li>\n",
    "<li><a href=\"#test2\">数据集匹配分类。</a></li>\n",
    "<li><a href=\"#3\">统计各类别数量。</a></li>"
   ]
  },
  {
   "cell_type": "markdown",
   "metadata": {},
   "source": [
    "### 划分数据集"
   ]
  },
  {
   "cell_type": "code",
   "execution_count": null,
   "metadata": {},
   "outputs": [],
   "source": [
    "# coding=utf-8\n",
    "import os, random, shutil\n",
    "import glob\n",
    "\n",
    "def moveFile(fileDir, ratio, tarDir):\n",
    "    pathDir = os.listdir(fileDir)  # 取图片的原始路径\n",
    "    filenumber = len(pathDir)\n",
    "    print(fileDir, filenumber)\n",
    "    picknumber = int(filenumber * ratio)  # 按照rate比例从文件夹中取一定数量图片\n",
    "    sample = random.sample(pathDir, picknumber)  # 随机选取picknumber数量的样本图片\n",
    "    # for name in sample:\n",
    "    #     shutil.move(os.path.join(fileDir, name), os.path.join(tarDir, name))\n",
    "    return\n",
    "\n",
    "def listD():\n",
    "    ori_path = r'../分类数据/train/'  # 最开始train的文件夹路径\n",
    "    split_Dir = r'../分类数据/val/'  # 移动到新的文件夹路径\n",
    "    ratio = 0.2  # 抽取比例\n",
    "    ori_path = glob.escape(ori_path)\n",
    "    for filePath in os.listdir(ori_path):\n",
    "        fileDir = os.path.join(ori_path, filePath)  # 原图片文件夹路径\n",
    "        tarDir = os.path.join(split_Dir, filePath)  # val下子文件夹名字\n",
    "        # print(tarDir)\n",
    "        if not os.path.exists(tarDir):  # 如果val下没有子文件夹，就创建\n",
    "            os.makedirs(tarDir)\n",
    "        moveFile(fileDir, ratio, tarDir)  # 从每个子类别开始逐个划分\n",
    "\n",
    "if __name__ == '__main__':\n",
    "    listD()"
   ]
  },
  {
   "cell_type": "markdown",
   "metadata": {},
   "source": [
    "### <a id=\"test2\">数据集匹配分类</a>\n",
    "\n",
    "<a href='#top'>▲ Top</a>"
   ]
  },
  {
   "cell_type": "code",
   "execution_count": null,
   "metadata": {},
   "outputs": [],
   "source": [
    "import shutil\n",
    "import glob\n",
    "import random\n",
    "import os\n",
    "\n",
    "def train_val(image_list):\n",
    "    train_image_dir = \"yoloDataTrain/images/\"\n",
    "    train_label_dir = \"yoloDataTrain/labels/\"\n",
    "    train_txt_dir = 'yoloDataTrain/txt/'\n",
    "    val_image_dir = \"yoloDataVal/images/\"\n",
    "    val_label_dir = \"yoloDataVal/labels/\"\n",
    "    val_txt_dir = 'yoloDataVal/txt/'\n",
    "\n",
    "    set_val_number = 2\n",
    "    val_list = random.sample(image_list, set_val_number)\n",
    "    for val in val_list:\n",
    "        # val_image_name = val.split(\"/\")[-1]\n",
    "        val_image_name = val.split(\"\\\\\")[-1]\n",
    "        val_image_path = val_image_dir + val_image_name\n",
    "        train_image_path = train_image_dir + val_image_name\n",
    "        shutil.move(train_image_path, val_image_path) # 原本所有文件都放在 训练集文件夹 train 里，取一部分放到 测试集 文件夹 val 里\n",
    "\n",
    "        val_label_path = val_label_dir + val_image_name[:-3] + 'xml'\n",
    "        train_label_path = train_label_dir + val_image_name[:-3] + 'xml'\n",
    "        shutil.move(train_label_path, val_label_path)\n",
    "\n",
    "        # txt 文件本来就是不匹配的\n",
    "        # val_txt_path = val_txt_dir + val_image_name[:-3] + 'txt'\n",
    "        # train_txt_path = train_txt_dir + val_image_name[:-3] + 'txt'\n",
    "        # shutil.move(train_txt_path, val_txt_path)\n",
    "\n",
    "\n",
    "if __name__ == '__main__':\n",
    "    # image_list = glob.glob(r'/train/images/*.jpg')\n",
    "    path = \"yoloDataTrain/images/\" # path 是 原始放置图片的文件。。\n",
    "    glob.escape(path)\n",
    "    image_list = glob.glob(os.path.join(glob.escape(path), '*.jpg'))\n",
    "    # print('image_list', image_list)\n",
    "    train_val(image_list)"
   ]
  },
  {
   "cell_type": "markdown",
   "metadata": {},
   "source": [
    "### <a id=\"3\">统计各类别数量</a> \n",
    "\n",
    "<a href='#top'>▲ Top</a>"
   ]
  },
  {
   "cell_type": "code",
   "execution_count": null,
   "metadata": {},
   "outputs": [],
   "source": [
    "# coding=utf-8\n",
    "import os, random, shutil\n",
    "import glob\n",
    "import pandas as pd\n",
    "\n",
    "\n",
    "def listD():\n",
    "    root = os.getcwd().replace('\\\\', '/')\n",
    "    print('root', root)\n",
    "    # ori_path = os.path.join(root, 'eggDataset/train/') # 最开始train的文件夹路径\n",
    "    ori_path = root\n",
    "\n",
    "    list = []\n",
    "    dict = {\"AnBanDan\": \"暗斑蛋\", \"BanDianDan\": \"斑点蛋\", \"BanZhuangDan\": \"板状蛋\", \"EAA\": \"EAA\", \"ShaPiDan\": \"沙皮蛋\", \"TaiYangDan\": \"太阳蛋\", \"YiXingDan\": \"异形蛋\", \n",
    "            \"ZangDan\": \"脏蛋\", \"ZhengChangDan\": \"正常蛋\", \"ZhouWenDan\": \"皱纹蛋\"}\n",
    "    column = [\"类别\", \"数量\"]\n",
    "    for fileName in os.listdir(ori_path):\n",
    "        if os.path.isdir(fileName):\n",
    "            fileDir = os.path.join(ori_path, fileName)  # 原图片文件夹路径\n",
    "\n",
    "            if fileName in dict:\n",
    "\n",
    "                pathDir = os.listdir(fileDir)  # 取图片的原始路径\n",
    "                filenumber = len(pathDir)\n",
    "                fileDir = fileDir.replace('\\\\', '/').split('/')\n",
    "                print(fileName, filenumber)\n",
    "\n",
    "\n",
    "                item = [dict[fileName], filenumber]\n",
    "                list.append(item)\n",
    "                # 根据对应的关系，对列表名称进行修改\n",
    "\n",
    "                # 将统计到的数据输出到 csv 文件\n",
    "                # dict_to_df = {\"类别\": fileNameList, \"数量\": fileNumberList}\n",
    "    \n",
    "    print(list)\n",
    "    df = pd.DataFrame(columns=column, data=list)\n",
    "    df.to_csv(\"number_statistics.csv\",index = False)\n",
    "\n",
    "if __name__ == '__main__':\n",
    "    listD()"
   ]
  }
 ],
 "metadata": {
  "language_info": {
   "name": "python"
  }
 },
 "nbformat": 4,
 "nbformat_minor": 2
}
