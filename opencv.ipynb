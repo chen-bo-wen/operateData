{
 "cells": [
  {
   "cell_type": "code",
   "execution_count": null,
   "metadata": {},
   "outputs": [],
   "source": []
  },
  {
   "cell_type": "markdown",
   "metadata": {},
   "source": [
    "OpenCV默认使用BGR\n",
    "\n",
    "在使用OpenCV等计算机视觉库时，MAT指的是矩阵，是一种图像容器，是二维向量，用于存储图像数据。\n",
    "\n",
    "ROI（region of image）\t\n",
    "\n",
    "为图像添加水印\n",
    "\n",
    "Opencv低通滤波：去噪，高通滤波：检测边缘。不同低通滤波作用有所差别，高通滤波同理。"
   ]
  },
  {
   "cell_type": "markdown",
   "metadata": {},
   "source": []
  }
 ],
 "metadata": {
  "language_info": {
   "name": "python"
  }
 },
 "nbformat": 4,
 "nbformat_minor": 2
}
