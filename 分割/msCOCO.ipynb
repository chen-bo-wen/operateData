{
 "cells": [
  {
   "cell_type": "code",
   "execution_count": null,
   "metadata": {},
   "outputs": [],
   "source": []
  },
  {
   "cell_type": "markdown",
   "metadata": {},
   "source": [
    "针对图像的每一个目标都记录了多边形坐标"
   ]
  },
  {
   "cell_type": "markdown",
   "metadata": {},
   "source": [
    "[ms coco数据集介绍](https://blog.csdn.net/qq_37541097/article/details/113247318?ops_request_misc=%257B%2522request%255Fid%2522%253A%25228744D95B-BD05-481A-80C9-5448AAA27515%2522%252C%2522scm%2522%253A%252220140713.130102334.pc%255Fblog.%2522%257D&request_id=8744D95B-BD05-481A-80C9-5448AAA27515&biz_id=0&utm_medium=distribute.pc_search_result.none-task-blog-2~blog~first_rank_ecpm_v1~rank_v31_ecpm-1-113247318-null-null.nonecase&utm_term=ms&spm=1018.2226.3001.4450)"
   ]
  }
 ],
 "metadata": {
  "language_info": {
   "name": "python"
  }
 },
 "nbformat": 4,
 "nbformat_minor": 2
}
