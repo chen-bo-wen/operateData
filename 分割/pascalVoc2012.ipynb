{
 "cells": [
  {
   "cell_type": "markdown",
   "metadata": {},
   "source": [
    "<div id='top'>包括以下操作：</div>\n",
    "<li><a href='#1'>数据集介绍</a></li>\n",
    "<li><a href='#2'></a></li>\n",
    "<li><a href='#3'></a></li>\n",
    "<li><a href='#4'></a></li>\n",
    "<li><a href='#5'></a></li>\n",
    "<li><a href='#6'></a></li>\n"
   ]
  },
  {
   "cell_type": "code",
   "execution_count": null,
   "metadata": {},
   "outputs": [],
   "source": []
  },
  {
   "cell_type": "markdown",
   "metadata": {},
   "source": [
    "<div style='color:skyblue; font-size:24px' id='1'> 数据集介绍 </div>\n",
    "\n",
    "<a href='#top'>▲ Top</a>"
   ]
  },
  {
   "cell_type": "markdown",
   "metadata": {},
   "source": [
    "[PASCAL VOC2012数据集介绍](https://blog.csdn.net/qq_37541097/article/details/115787033)\n",
    "\n",
    "[下载地址](http://host.robots.ox.ac.uk/pascal/VOC/voc2012/index.html#devkit)"
   ]
  },
  {
   "cell_type": "markdown",
   "metadata": {},
   "source": [
    "读取 txt 文件，获取每一行的信息。每一行就对应一个图片。（不同于 yolo，txt 文件存储的是标签以及标注框的坐标）\n",
    "\n",
    "去 Annotations 找到对应的 xml 文件，解析该文件就能知道图片的高宽，以及图片里存在的目标及位置。\n",
    "\n",
    "去 JPEGImages 找到相应的图片并载入内存。"
   ]
  },
  {
   "cell_type": "markdown",
   "metadata": {},
   "source": [
    "[pytorch segmentation](https://github.com/pytorch/vision/tree/main/references/segmentation)"
   ]
  },
  {
   "cell_type": "markdown",
   "metadata": {},
   "source": [
    "每个像素的数值对应的是类别的索引。"
   ]
  }
 ],
 "metadata": {
  "language_info": {
   "name": "python"
  }
 },
 "nbformat": 4,
 "nbformat_minor": 2
}
