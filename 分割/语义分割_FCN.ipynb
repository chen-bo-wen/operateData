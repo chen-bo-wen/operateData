{
 "cells": [
  {
   "cell_type": "markdown",
   "metadata": {},
   "source": [
    "<div id='top'>包括以下操作：</div>\n",
    "<li><a href='#1'>转置卷积</a></li>\n",
    "<li><a href='#2'>FCN</a></li>\n",
    "<li><a href='#3'></a></li>\n",
    "<li><a href='#4'></a></li>\n",
    "<li><a href='#5'></a></li>\n",
    "<li><a href='#6'></a></li>\n"
   ]
  },
  {
   "cell_type": "code",
   "execution_count": null,
   "metadata": {},
   "outputs": [],
   "source": []
  },
  {
   "cell_type": "markdown",
   "metadata": {},
   "source": [
    "[pytorch 官方学习计划](https://pytorch.org/blog/torchvision-mobilenet-v3-implementation/#semantic-segmentation)\n",
    "\n",
    "常见语义分割评价指标：FCN论文"
   ]
  },
  {
   "cell_type": "markdown",
   "metadata": {},
   "source": [
    "<div style='color:skyblue; font-size:24px' id='1'>转置卷积</div>\n",
    "\n",
    "<a href='#top'>▲ Top</a>\n",
    "\n",
    "转置卷积作用：上采样。转置卷积不是卷积的逆运算。只是原卷积核上下左右翻转。[卷积讲解视频](https://www.bilibili.com/video/BV1mh411J7U4)\n",
    "\n",
    "[绘制动图](https://github.com/vdumoulin/conv_arithmetic)"
   ]
  },
  {
   "cell_type": "markdown",
   "metadata": {},
   "source": [
    "<div style='color:skyblue; font-size:24px' id='2'>FCN</div>\n",
    "\n",
    "<a href='#top'>▲ Top</a>"
   ]
  },
  {
   "cell_type": "markdown",
   "metadata": {},
   "source": [
    "FCN最后一个特征层长度为21，因为 pascal voc2012 是 20 类，加上背景，就是 21 类。\n",
    "\n",
    "将全连接层改为卷积层，减少了对输入图片大小的限制。\n",
    "\n",
    "![1.png](1.png)"
   ]
  },
  {
   "cell_type": "markdown",
   "metadata": {},
   "source": []
  }
 ],
 "metadata": {
  "language_info": {
   "name": "python"
  }
 },
 "nbformat": 4,
 "nbformat_minor": 2
}
