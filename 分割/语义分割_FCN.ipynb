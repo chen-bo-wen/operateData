{
 "cells": [
  {
   "cell_type": "code",
   "execution_count": null,
   "metadata": {},
   "outputs": [],
   "source": []
  },
  {
   "cell_type": "markdown",
   "metadata": {},
   "source": [
    "[pytorch 官方学习计划](https://pytorch.org/blog/torchvision-mobilenet-v3-implementation/#semantic-segmentation)"
   ]
  },
  {
   "cell_type": "markdown",
   "metadata": {},
   "source": [
    "常见语义分割评价指标：FCN论文\n",
    "\n",
    "转置卷积作用：上采样。转置卷积不是卷积的逆运算。只是原卷积核上下左右翻转。[卷积讲解视频](https://www.bilibili.com/video/BV1mh411J7U4)\n",
    "\n",
    "[绘制动图](https://github.com/vdumoulin/conv_arithmetic)"
   ]
  },
  {
   "cell_type": "markdown",
   "metadata": {},
   "source": [
    "FCN最后一个特征层长度为21，因为 pascal voc2012 是 20 类，加上背景，就是 21 类。\n",
    "\n",
    "![1.png](1.png)"
   ]
  }
 ],
 "metadata": {
  "language_info": {
   "name": "python"
  }
 },
 "nbformat": 4,
 "nbformat_minor": 2
}
