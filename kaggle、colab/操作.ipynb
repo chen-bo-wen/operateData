{
 "cells": [
  {
   "cell_type": "markdown",
   "metadata": {},
   "source": [
    "<div id='top'>包括以下操作：</div>\n",
    "<li><a href='#1'>在colab里引入kaggle数据</a></li>\n",
    "<li><a href='#2'></a></li>\n",
    "<li><a href='#3'></a></li>\n",
    "<li><a href='#4'></a></li>\n",
    "<li><a href='#5'></a></li>\n",
    "<li><a href='#6'></a></li>"
   ]
  },
  {
   "cell_type": "markdown",
   "metadata": {},
   "source": [
    "### <a id='1'>在colab里引入kaggle数据</a>  \n",
    "\n",
    "<a href='#top'>▲ Top</a>\n",
    "\n",
    "[Kaggle数据集上传到Google Colab上](https://blog.csdn.net/qq_20880939/article/details/105613800)"
   ]
  },
  {
   "cell_type": "code",
   "execution_count": null,
   "metadata": {},
   "outputs": [],
   "source": [
    "!pip install kaggle\n",
    "\n",
    "import json\n",
    "token = {\"username\":\"colabewendy\",\"key\":\"8adfac2f6f22a19b7862c84583551fe9\"} # username 与 key 对应的内容就是 API中Create New API Token 自动生成 json文件里的内容\n",
    "with open('/content/kaggle.json', 'w') as file:\n",
    "  json.dump(token, file)\n",
    "\n",
    "!mkdir -p ~/.kaggle\n",
    "\n",
    "!cp /content/kaggle.json ~/.kaggle/\n",
    "\n",
    "!chmod 600 ~/.kaggle/kaggle.json\n",
    "\n",
    "!kaggle config set -n path -v /content\n",
    "\n",
    "# 最后就是根据不同数据集的kaggle代码下载方式"
   ]
  },
  {
   "cell_type": "code",
   "execution_count": null,
   "metadata": {},
   "outputs": [],
   "source": [
    "!unzip -q /content/competitions/ml2022spring-hw2/ml2022spring-hw2.zip\n",
    "!ls libriphone\n",
    "\n",
    "# 只需要操作一次，下载完整之后，就及时注释掉"
   ]
  },
  {
   "cell_type": "markdown",
   "metadata": {},
   "source": []
  }
 ],
 "metadata": {
  "language_info": {
   "name": "python"
  }
 },
 "nbformat": 4,
 "nbformat_minor": 2
}
