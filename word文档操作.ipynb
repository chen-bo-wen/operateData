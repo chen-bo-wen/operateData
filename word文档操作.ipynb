{
 "cells": [
  {
   "cell_type": "markdown",
   "metadata": {},
   "source": [
    "读取文档表格"
   ]
  },
  {
   "cell_type": "code",
   "execution_count": null,
   "metadata": {},
   "outputs": [],
   "source": [
    "# readDoc\n",
    "from docx import Document\n",
    "import os\n",
    "\n",
    "outputfile = open('output.txt', 'w')\n",
    "\n",
    "def read_table_from_word(file_path):\n",
    "    # 加载现有的Word文档\n",
    "    doc = Document(file_path)\n",
    "    \n",
    "    # 读取文档中的所有表格\n",
    "    for i, table in enumerate(doc.tables):\n",
    "        print(f\"Table {i}:\")\n",
    "        for row in table.rows:\n",
    "            for cell in row.cells:\n",
    "                # print(cell.text, end=\" | \")\n",
    "                text = cell.text\n",
    "                print(type(text))\n",
    "\n",
    "                if not text == '':\n",
    "                    outputfile.write(text)\n",
    "                    outputfile.write('\\r\\n')\n",
    "            print()  # 每一行结束后换行\n",
    "\n",
    "# 调用函数，输出Word文件中表格数据\n",
    "read_table_from_word(r'学院表.docx')    \n",
    "outputfile.close()\n"
   ]
  },
  {
   "cell_type": "code",
   "execution_count": null,
   "metadata": {},
   "outputs": [],
   "source": [
    "from docx import Document\n",
    "from docx.shared import Pt\n",
    "\n",
    "doc = Document()\n",
    "font_size = 12\n",
    "\n",
    "with open(\"output1.txt\", \"r\") as f:\n",
    "    dataList = f.readlines()\n",
    "    # print(data)\n",
    "\n",
    "outputfile = open('outputCourse.txt', 'w')\n",
    "\n",
    "name_list = ['王阿利','白永亮','许飞跃','李坚','温海祥','汪浪红','汪跃华','张字博','陈博儒','郑剑玮','洪婷婷','郭衍彪','黄桂东','曹诗林','曾巧辉','吴富旺',\n",
    "'曾荣','曾新安','廖兰','Abdul Rahaman,Muhammad Faisal Manzoor','MURTAZA ALI','范土贵','梁琪椿']\n",
    "\n",
    "teacherCourselist = []\n",
    "for name in name_list:\n",
    "    font_size = 24\n",
    "    # 添加段落并设置字体大小\n",
    "    paragraph = doc.add_paragraph()\n",
    "    run = paragraph.add_run(f'老师名字：{name}')\n",
    "    font = run.font\n",
    "    font.size = Pt(font_size)\n",
    "    # outputfile.write(content)\n",
    "    # outputfile.write('\\r\\n')\n",
    "    # print(f'老师名字：{name}')\n",
    "    paragraph = doc.add_paragraph()\n",
    "    for i, data in enumerate(dataList):\n",
    "        if data.find(name) != -1:\n",
    "            if not data in teacherCourselist:\n",
    "                teacherCourselist.append(data)\n",
    "                font_size = 12\n",
    "                # 添加段落并设置字体大小\n",
    "                run = paragraph.add_run(data)\n",
    "                font = run.font\n",
    "                font.size = Pt(font_size)\n",
    "                # outputfile.write(content)\n",
    "                # outputfile.write('\\r\\n')\n",
    "                # print(data)\n",
    "    teacherCourselist = []\n",
    "    \n",
    "\n",
    "# 保存Word文档\n",
    "# 注意更改代码后，新文档换一个名字，可能文档不更新\n",
    "doc.save(\"example5.docx\")"
   ]
  },
  {
   "cell_type": "markdown",
   "metadata": {},
   "source": []
  }
 ],
 "metadata": {
  "language_info": {
   "name": "python"
  }
 },
 "nbformat": 4,
 "nbformat_minor": 2
}
