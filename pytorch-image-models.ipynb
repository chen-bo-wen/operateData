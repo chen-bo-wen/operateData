{
 "cells": [
  {
   "cell_type": "markdown",
   "metadata": {},
   "source": [
    "代码里 如：args.include_index, 一般在 parser.add_argument 处就是 --include-index，一个是下划线，一个是小短线。"
   ]
  },
  {
   "cell_type": "markdown",
   "metadata": {},
   "source": [
    "文件运行：https://huggingface.co/docs/timm/training_script"
   ]
  },
  {
   "cell_type": "markdown",
   "metadata": {},
   "source": [
    "#### 运行 train.py 文件"
   ]
  },
  {
   "cell_type": "code",
   "execution_count": null,
   "metadata": {},
   "outputs": [],
   "source": [
    "    # CUDA_VISIBLE_DEVICES='1,2,3' python -m torch.distributed.launch --master_port=29508 --nproc_per_node=3 train.py \\\n",
    "    # --data=/App/chenbowen/dataset/newEggDataset/dataset \\\n",
    "    # --initial-checkpoint='' \\\n",
    "    # --num-classes=10 \\\n",
    "    # --img-size=552 \\\n",
    "    # --lr=0.05 \\\n",
    "    # --output=chicken_eggs_version_5 \\\n",
    "    # --batch-size=5 \\\n",
    "    # --epochs=100 \\\n",
    "    # --model=efficientnet_b3"
   ]
  },
  {
   "cell_type": "markdown",
   "metadata": {},
   "source": [
    "#### 运行 inference.py 文件"
   ]
  },
  {
   "cell_type": "code",
   "execution_count": null,
   "metadata": {},
   "outputs": [],
   "source": [
    "    # python validate.py \\\n",
    "    # --dataset=/App/chenbowen/dataset/newEggDataset/test \\\n",
    "    # --num-classes=10 \\\n",
    "    # --img-size=552 \\\n",
    "    # --batch-size=5 \\\n",
    "    # --model=efficientnet_b3 \\\n",
    "    # --pretrained=/App/chenbowen/pytorch-image-models-main/chicken_eggs_version_5/20240823-004244-efficientnet_b3-552/model_best.pth.tar"
   ]
  }
 ],
 "metadata": {
  "language_info": {
   "name": "python"
  }
 },
 "nbformat": 4,
 "nbformat_minor": 2
}
