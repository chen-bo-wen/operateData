{
 "cells": [
  {
   "cell_type": "markdown",
   "metadata": {},
   "source": [
    "设置git，git config --global：https://blog.csdn.net/qq_39832864/article/details/88617268\n",
    "\n",
    "将本地的文件推到git仓库：https://blog.csdn.net/DY_1024/article/details/103039978"
   ]
  },
  {
   "cell_type": "code",
   "execution_count": null,
   "metadata": {},
   "outputs": [],
   "source": [
    "git init\n",
    "git add .\n",
    "git commit -m 'first commit'\n",
    "\n",
    "git remote add origin 你的远程库地址\n",
    "# 如：\n",
    "git remote add origin https://github.com/chen-bo-wen/LHY-HW-NOTE-7-.git\n",
    "\n",
    "# 5、获取远程库与本地同步合并（如果远程库不为空必须做这一步，否则后面的提交会失败）\n",
    "git pull --rebase origin master\n",
    "\n",
    "# 6、把本地库的内容推送到远程，使用 git push命令，实际上是把当前分支master推送到远程。执行此命令后会要求输入用户名、密码，验证通过后即开始上传。\n",
    "git push -u origin master"
   ]
  }
 ],
 "metadata": {
  "language_info": {
   "name": "python"
  }
 },
 "nbformat": 4,
 "nbformat_minor": 2
}
