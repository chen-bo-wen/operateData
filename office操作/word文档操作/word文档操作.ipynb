{
 "cells": [
  {
   "cell_type": "markdown",
   "metadata": {},
   "source": [
    "<div id='top'>包括以下操作：</div>\n",
    "<li><a href='#1'>读取文档表格</a></li>\n",
    "<li><a href='#2'>处理word文档中表格合并问题</a></li>\n",
    "<li><a href='#3'></a></li>\n",
    "<li><a href='#4'></a></li>\n",
    "<li><a href='#5'></a></li>\n",
    "<li><a href='#6'></a></li>"
   ]
  },
  {
   "cell_type": "markdown",
   "metadata": {},
   "source": [
    "pip install python-docx"
   ]
  },
  {
   "cell_type": "markdown",
   "metadata": {},
   "source": [
    "### <a id='1'>读取文档表格</a>  \n",
    "\n",
    "<a href='#top'>▲ Top</a>"
   ]
  },
  {
   "cell_type": "code",
   "execution_count": null,
   "metadata": {},
   "outputs": [],
   "source": [
    "line.strip('\\n').split(' ')"
   ]
  },
  {
   "cell_type": "code",
   "execution_count": null,
   "metadata": {},
   "outputs": [],
   "source": [
    "# readDoc\n",
    "from docx import Document\n",
    "import os\n",
    "\n",
    "outputfile = open('output.txt', 'w')\n",
    "\n",
    "def read_table_from_word(file_path):\n",
    "    # 加载现有的Word文档\n",
    "    doc = Document(file_path)\n",
    "    \n",
    "    # 读取文档中的所有表格\n",
    "    for i, table in enumerate(doc.tables):\n",
    "        print(f\"Table {i}:\")\n",
    "        for row in table.rows:\n",
    "            for cell in row.cells:\n",
    "                # print(cell.text, end=\" | \")\n",
    "                text = cell.text\n",
    "                print(type(text))\n",
    "\n",
    "                if not text == '':\n",
    "                    outputfile.write(text)\n",
    "                    outputfile.write('\\r\\n')\n",
    "            print()  # 每一行结束后换行\n",
    "\n",
    "# 调用函数，输出Word文件中表格数据\n",
    "read_table_from_word(r'学院表.docx')    \n",
    "outputfile.close()\n"
   ]
  },
  {
   "cell_type": "code",
   "execution_count": null,
   "metadata": {},
   "outputs": [],
   "source": [
    "from docx import Document\n",
    "import os\n",
    "\n",
    "outputfile = open('output.txt', 'w')\n",
    "\n",
    "def read_table_from_word(file_path):\n",
    "    # 加载现有的Word文档\n",
    "    doc = Document(file_path)\n",
    "\n",
    "    teacherName = ['']\n",
    "    \n",
    "    # 读取文档中的所有表格\n",
    "    for i, table in enumerate(doc.tables):\n",
    "        print(f\"Table {i}:\")\n",
    "        for row in table.rows:\n",
    "            for cell in row.cells:\n",
    "                print(cell.text, end=\" | \")\n",
    "                text = cell.text\n",
    "\n",
    "                if not text == '':\n",
    "                    outputfile.write(text)\n",
    "                    outputfile.write(' | ')\n",
    "            outputfile.write('\\r\\n') # 将表格同一行的在新文档里同一行输出\n",
    "            print()  # 每一行结束后换行\n",
    "\n",
    "# 调用函数，输出Word文件中表格数据\n",
    "read_table_from_word(r'学院表.docx')    \n",
    "outputfile.close()\n"
   ]
  },
  {
   "cell_type": "code",
   "execution_count": null,
   "metadata": {},
   "outputs": [],
   "source": [
    "from docx import Document\n",
    "from docx.shared import Pt\n",
    "\n",
    "doc = Document()\n",
    "font_size = 12\n",
    "\n",
    "with open(\"output1.txt\", \"r\") as f:\n",
    "    dataList = f.readlines()\n",
    "    # print(data)\n",
    "\n",
    "outputfile = open('outputCourse.txt', 'w')\n",
    "\n",
    "# name_list = ['王阿利','白永亮','许飞跃','李坚','温海祥','汪浪红','汪跃华','张字博','陈博儒','郑剑玮','洪婷婷','郭衍彪','黄桂东','曹诗林','曾巧辉','吴富旺',\n",
    "# '曾荣','曾新安','廖兰','Abdul Rahaman,Muhammad Faisal Manzoor','MURTAZA ALI','范土贵','梁琪椿']\n",
    "name_list = ['上官国莲','马艳玲','王瑞','王敬敬','冯孔龙','朱寒月','任红','刘阳','李梅','李锐','李永芳','李年龙','何梦辉','黄燕燕','萧洪东',\n",
    "'曾令文','温玉辉','蔡志宁','魏东华','TANVIR AHMAD','钟先锋']\n",
    "\n",
    "teacherCourselist = []\n",
    "for name in name_list:\n",
    "    font_size = 24\n",
    "    # 添加段落并设置字体大小\n",
    "    paragraph = doc.add_paragraph()\n",
    "    run = paragraph.add_run(f'老师名字：{name}')\n",
    "    font = run.font\n",
    "    font.size = Pt(font_size)\n",
    "    # outputfile.write(content)\n",
    "    # outputfile.write('\\r\\n')\n",
    "    # print(f'老师名字：{name}')\n",
    "    paragraph = doc.add_paragraph()\n",
    "    for i, data in enumerate(dataList):\n",
    "        if data.find(name) != -1:\n",
    "            if not data in teacherCourselist:\n",
    "                teacherCourselist.append(data)\n",
    "                font_size = 12\n",
    "                # 添加段落并设置字体大小\n",
    "                run = paragraph.add_run(data)\n",
    "                font = run.font\n",
    "                font.size = Pt(font_size)\n",
    "                # outputfile.write(content)\n",
    "                # outputfile.write('\\r\\n')\n",
    "                # print(data)\n",
    "    teacherCourselist = []\n",
    "    \n",
    "\n",
    "# 保存Word文档\n",
    "# 注意更改代码后，新文档换一个名字，可能文档不更新\n",
    "doc.save(\"example6.docx\")"
   ]
  },
  {
   "cell_type": "markdown",
   "metadata": {},
   "source": [
    "### <a id='2'>python docx处理word文档中表格合并问题</a>  \n",
    "\n",
    "<a href='#top'>▲ Top</a>"
   ]
  },
  {
   "cell_type": "markdown",
   "metadata": {},
   "source": [
    "https://blog.csdn.net/u013546508/article/details/88687661"
   ]
  },
  {
   "cell_type": "code",
   "execution_count": null,
   "metadata": {},
   "outputs": [],
   "source": [
    "from docx import Document\n",
    "    \n",
    "def read_table_from_word(file_path):\n",
    "    doc = Document(file_path)\n",
    "\n",
    "    for i, table in enumerate(doc.tables):\n",
    "        row_cells, column_cells = [], []\n",
    "        index = []\n",
    "        width, length = len(table.columns), len(table.rows)\n",
    "        k = 0\n",
    "        for row in table.rows:\n",
    "            for cell in row.cells:\n",
    "                if cell not in row_cells:\n",
    "                    index.append([k//width, k%width])\n",
    "                    row_cells.append(cell)\n",
    "                k += 1\n",
    "        k = 0\n",
    "        for column in table.columns:\n",
    "            for cell in column.cells:\n",
    "                if cell not in column_cells:\n",
    "                    column_cells.append(cell)\n",
    "                elif [k%length, k//length] in index:\n",
    "                    index.remove([k%length, k//length])\n",
    "                k += 1\n",
    "        # index即为找到的单元格索引\n",
    "        for i in index:\n",
    "            table.rows[i[0]].cells[i[1]].text += 'test'\n",
    "    doc.save('11.docx')\n",
    "    print(table)\n",
    "\n",
    "read_table_from_word(r'test.docx')    "
   ]
  },
  {
   "cell_type": "markdown",
   "metadata": {},
   "source": [
    "输出结果，会在之前的表格里每个格子都添加一个 test 字符串，如下所示：\n",
    "\n",
    "![image.png](1.png)\n",
    "\n",
    "![image.png](2.png)"
   ]
  },
  {
   "cell_type": "markdown",
   "metadata": {},
   "source": []
  },
  {
   "cell_type": "markdown",
   "metadata": {},
   "source": [
    "### <a id='3'>将合并单元格里的内容也合并到一行</a>  \n",
    "\n",
    "<a href='#top'>▲ Top</a>\n",
    "\n",
    "https://blog.csdn.net/pythonxxoo/article/details/131199445?spm=1001.2101.3001.6661.1&utm_medium=distribute.pc_relevant_t0.none-task-blog-2%7Edefault%7EBlogCommendFromBaidu%7ERate-1-131199445-blog-125856136.235%5Ev43%5Epc_blog_bottom_relevance_base2&depth_1-utm_source=distribute.pc_relevant_t0.none-task-blog-2%7Edefault%7EBlogCommendFromBaidu%7ERate-1-131199445-blog-125856136.235%5Ev43%5Epc_blog_bottom_relevance_base2&utm_relevant_index=1\n",
    "\n",
    "并且还可以使用分隔符将不同行的分开，如何搞？？？"
   ]
  },
  {
   "cell_type": "code",
   "execution_count": null,
   "metadata": {},
   "outputs": [],
   "source": [
    "from docx import Document\n",
    "    \n",
    "def read_table_from_word(file_path):\n",
    "    doc = Document(file_path)\n",
    "\n",
    "    for i, table in enumerate(doc.tables):\n",
    "        row_cells, column_cells = [], []\n",
    "        index = []\n",
    "        width, length = len(table.columns), len(table.rows)\n",
    "        k = 0\n",
    "        for row in table.rows:\n",
    "            for cell in row.cells:\n",
    "                if cell not in row_cells:\n",
    "                    index.append([k//width, k%width])\n",
    "                    row_cells.append(cell)\n",
    "                k += 1\n",
    "        k = 0\n",
    "        for column in table.columns:\n",
    "            for cell in column.cells:\n",
    "                if cell not in column_cells:\n",
    "                    column_cells.append(cell)\n",
    "                elif [k%length, k//length] in index:\n",
    "                    index.remove([k%length, k//length])\n",
    "                k += 1\n",
    "        # index即为找到的单元格索引\n",
    "        for i in index:\n",
    "            # table.rows[i[0]].cells[i[1]].text += 'test'\n",
    "            result = ''\n",
    "            print('i == ', i)\n",
    "            for line in table.rows[i[0]].cells[i[1]].text:\n",
    "                print(line)\n",
    "                result += line.strip()\n",
    "            print(result)\n",
    "            table.rows[i[0]].cells[i[1]].text = result\n",
    "    doc.save('15.docx')\n",
    "    print(table)\n",
    "\n",
    "read_table_from_word(r'test.docx')    "
   ]
  }
 ],
 "metadata": {
  "language_info": {
   "name": "python"
  }
 },
 "nbformat": 4,
 "nbformat_minor": 2
}
