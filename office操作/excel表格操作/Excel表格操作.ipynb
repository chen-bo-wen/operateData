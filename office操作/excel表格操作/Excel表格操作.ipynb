{
 "cells": [
  {
   "cell_type": "markdown",
   "metadata": {},
   "source": [
    "读取表格数据"
   ]
  },
  {
   "cell_type": "code",
   "execution_count": null,
   "metadata": {},
   "outputs": [],
   "source": [
    "# readExcel\n",
    "# 安装 pandas库后，可能需要使用 python3 xx.py 才能启动，因为 python3 和 python2 不一样\n",
    "import pandas as pd\n",
    "\n",
    "df = pd.read_excel(\"登记表.xlsx\")\n",
    "\n",
    "values = df.values\n",
    "print(values[:,1]) # 输出第2列\n",
    "\n",
    "# print(\"\\n(1)全部数据：\")\n",
    "# print(df.values)\n",
    "\n",
    "# print(\"\\n(2)第2行第3列的值：\")\n",
    "# print(df.values[1,2])"
   ]
  }
 ],
 "metadata": {
  "language_info": {
   "name": "python"
  }
 },
 "nbformat": 4,
 "nbformat_minor": 2
}
