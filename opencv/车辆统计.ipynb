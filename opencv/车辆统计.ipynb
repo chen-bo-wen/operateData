{
 "cells": [
  {
   "cell_type": "code",
   "execution_count": null,
   "metadata": {},
   "outputs": [],
   "source": [
    "基本图形运算与处理\n",
    "\n",
    "形态学（腐蚀，膨胀、开运算、闭运算）\n",
    "\n",
    "轮廓查找"
   ]
  },
  {
   "cell_type": "markdown",
   "metadata": {},
   "source": [
    "<div style='color:skyblue; font-size:24px'>读取视频</div>"
   ]
  }
 ],
 "metadata": {
  "language_info": {
   "name": "python"
  }
 },
 "nbformat": 4,
 "nbformat_minor": 2
}
