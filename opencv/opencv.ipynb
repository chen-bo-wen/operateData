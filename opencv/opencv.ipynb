{
 "cells": [
  {
   "cell_type": "code",
   "execution_count": null,
   "metadata": {},
   "outputs": [],
   "source": []
  },
  {
   "cell_type": "markdown",
   "metadata": {},
   "source": [
    "OpenCV默认使用BGR\n",
    "\n",
    "在使用OpenCV等计算机视觉库时，MAT指的是矩阵，是一种图像容器，是二维向量，用于存储图像数据。\n",
    "\n",
    "ROI（region of image）\t\n",
    "\n",
    "为图像添加水印\n",
    "\n",
    "Opencv低通滤波：去噪，高通滤波：检测边缘。不同低通滤波作用有所差别，高通滤波同理。"
   ]
  },
  {
   "cell_type": "markdown",
   "metadata": {},
   "source": [
    "<div style='color:skyblue; font-size:24px'>边缘检测canny  </div>\n",
    "\n",
    "处理效果很好，使用方法也简单。 Canny(img, minVal, maxVal...)\n",
    "\n",
    "1、5*5 高斯滤波消除噪声\n",
    "\n",
    "2、计算图像梯度方向（0/45/90/135°）\n",
    "\n",
    "3、取局部最大值：细化边缘，去除那些不是边缘的点\n",
    "\n",
    "4、阈值计算"
   ]
  },
  {
   "cell_type": "markdown",
   "metadata": {},
   "source": [
    "<div style='color:skyblue; font-size:24px'>形态学图像处理 </div>\n",
    "\n",
    "1、腐蚀：是一种使图像中的对象缩小的操作。通过对结构元素在图像上进行平移，如果结构元素完全包含在图像对象内部，则保留该位置的像素；否则，将该位置的像素置为背景色（如黑色）。腐蚀操作可以用于消除小的噪声点或细节，以及断开连接较近的对象。\n",
    "\n",
    "2、膨胀：与腐蚀相反，膨胀是一种使图像中的对象扩大的操作。如果结构元素的任何部分与图像对象重叠，则将该位置的像素置为前景色（如白色）。膨胀操作可以用于填补对象内部的空洞或裂缝，以及连接断开的对象。\n",
    "\n",
    "3、开运算：先对图像进行腐蚀操作，然后再进行膨胀操作。开运算可以用于消除小的物体或细节，并且可以平滑物体的边界。\n",
    "\n",
    "4、闭运算：与开运算相反，闭运算是先对图像进行膨胀操作，然后再进行腐蚀操作。闭运算可以用于填补小的空洞或裂缝，并且也可以平滑物体的边界。"
   ]
  },
  {
   "cell_type": "markdown",
   "metadata": {},
   "source": [
    "<div style='color:skyblue; font-size:24px'>阈值  </div>\n",
    "\n",
    "由于光照不均匀以及阴影的存在，只有一个阈值会使得在阴影处的白色被二值化成黑色，因此需要考虑自适应阈值。\n",
    "\n",
    "![image.png](1.png)\n",
    "\n",
    "cv2.adaptiveThreshold(img, 255, cv2.ADAPTIVE_THRESH_MEAN_C, cv2.THRESH_BINARY, 11, 2) "
   ]
  },
  {
   "cell_type": "markdown",
   "metadata": {},
   "source": [
    "<div style='color:skyblue; font-size:24px'>形态学梯度</div>\n",
    "\n",
    "也可以求得边缘"
   ]
  },
  {
   "cell_type": "markdown",
   "metadata": {},
   "source": [
    "<div style='color:skyblue; font-size:24px'>顶帽运算</div>\n",
    "\n",
    "顶帽 = 原图 - 开运算，只留下噪点。"
   ]
  },
  {
   "cell_type": "markdown",
   "metadata": {},
   "source": [
    "<div style='color:skyblue; font-size:24px'>黑帽运算</div>\n",
    "\n",
    "黑帽 = 原图 - 闭运算，只留下小洞。"
   ]
  },
  {
   "cell_type": "markdown",
   "metadata": {},
   "source": [
    "<div style='color:skyblue; font-size:24px'>轮廓 vs 边缘</div>\n",
    "\n",
    "![image.png](2.png)\n",
    "![3.png](3.png)"
   ]
  },
  {
   "cell_type": "markdown",
   "metadata": {},
   "source": [
    "查找轮廓：\n",
    "\n",
    "1、读文件 cv2.imread\n",
    "\n",
    "2、转变成单通道（因为三通道无法进行二值化） cv2.cvtColor\n",
    "\n",
    "3、二值化 cv2.threshold\n",
    "\n",
    "4、轮廓查找 cvw.findContours\n",
    "\n",
    "绘制轮廓\n",
    "\n",
    "5、cv2.drawContours\n",
    "\n",
    "计算面积\n",
    "\n",
    "6、cv2.contourArea\n",
    "\n",
    "计算周长\n",
    "\n",
    "7、cv2.arcLength"
   ]
  },
  {
   "cell_type": "markdown",
   "metadata": {},
   "source": [
    "<div style='color:skyblue; font-size:24px'>轮廓的面积和周长</div>"
   ]
  },
  {
   "cell_type": "markdown",
   "metadata": {},
   "source": [
    "轮廓的面积：contourArea(contour), 其中 contour 是轮廓。\n",
    "\n",
    "轮廓的周长：arcLength(curve, closed)"
   ]
  },
  {
   "cell_type": "markdown",
   "metadata": {},
   "source": [
    "<div style='color:skyblue; font-size:24px'>多边形逼近与凸包</div>"
   ]
  }
 ],
 "metadata": {
  "language_info": {
   "name": "python"
  }
 },
 "nbformat": 4,
 "nbformat_minor": 2
}
