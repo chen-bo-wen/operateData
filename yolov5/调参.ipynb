{
 "cells": [
  {
   "cell_type": "markdown",
   "metadata": {},
   "source": [
    "[手把手带你调参Yolo v5](https://blog.csdn.net/weixin_42645636/article/details/128863986)"
   ]
  },
  {
   "cell_type": "markdown",
   "metadata": {},
   "source": [
    "### detect.py"
   ]
  },
  {
   "cell_type": "code",
   "execution_count": null,
   "metadata": {},
   "outputs": [],
   "source": [
    "is_file = Path(source).suffix[1:] in (IMG_FORMATS + VID_FORMATS) # \"[1:]\"表示从第二个字符开始取出后缀名，因为第一个字符是\".\""
   ]
  }
 ],
 "metadata": {
  "language_info": {
   "name": "python"
  }
 },
 "nbformat": 4,
 "nbformat_minor": 2
}
