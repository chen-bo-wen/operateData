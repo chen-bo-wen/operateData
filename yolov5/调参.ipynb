{
 "cells": [
  {
   "cell_type": "markdown",
   "metadata": {},
   "source": [
    "[手把手带你调参Yolo v5](https://blog.csdn.net/weixin_42645636/article/details/128863986)"
   ]
  },
  {
   "cell_type": "markdown",
   "metadata": {},
   "source": [
    "数据处理，图片和xml：\n",
    "\n",
    "有的图片没有相应的xml文件，删除；\n",
    "\n",
    "即使 图片 和 xml文件 相对应了，但是 xml文件 里没有标注框，删除。"
   ]
  },
  {
   "cell_type": "markdown",
   "metadata": {},
   "source": [
    "<div style='color:skyblue; font-size:24px'>将 xml/json 文件转为 txt文件</div>"
   ]
  },
  {
   "cell_type": "markdown",
   "metadata": {},
   "source": [
    "转变后的 txt文件 格式如下：\n",
    "\n",
    "0 0.166015625 0.11669921875 0.056640625 0.0859375\n",
    "\n",
    "1 0.6826171875 0.114013671875 0.049479166666666664 0.06591796875\n",
    "\n",
    "顺序是 标签，以及标注框的坐标(左上角x，y 右下角 x，y)。上面举例一共有两个标注框。"
   ]
  },
  {
   "cell_type": "markdown",
   "metadata": {},
   "source": [
    "<div style='color:skyblue; font-size:24px'>detect.py</div>\n",
    "\n",
    "[detect.py 代码解析](https://blog.csdn.net/sinat_41942180/article/details/129280379)"
   ]
  },
  {
   "cell_type": "code",
   "execution_count": null,
   "metadata": {},
   "outputs": [],
   "source": [
    "is_file = Path(source).suffix[1:] in (IMG_FORMATS + VID_FORMATS) # \"[1:]\"表示从第二个字符开始取出后缀名，因为第一个字符是\".\""
   ]
  },
  {
   "cell_type": "markdown",
   "metadata": {},
   "source": [
    "读取所有数据\n",
    "\n",
    "对数据集进行划分\n",
    "\n",
    "将 xml文件转为 txt文件 （即记录标注框的标签及坐标位置(左上角x，y 右下角 x，y)）\n",
    "\n",
    "记录位置后，再将值变为 0~1 之间(数据归一化 xywh2xyxy坐标转换函数)。因为 xml 文件里记录了图片的大小，和标注框的坐标，因此在归一化时，标注框也不会出现位移的情况。\n",
    "\n",
    "<div style='color:lightblue;'>（对于YOLO算法中的边界框（Bounding Box）标注，它们通常以中心点坐标（x, y）和宽度（w）、高度（h）的形式表示（即xywh格式））</div>"
   ]
  },
  {
   "cell_type": "markdown",
   "metadata": {},
   "source": [
    "![](1.png)\n",
    "![](2.png)"
   ]
  }
 ],
 "metadata": {
  "language_info": {
   "name": "python"
  }
 },
 "nbformat": 4,
 "nbformat_minor": 2
}
