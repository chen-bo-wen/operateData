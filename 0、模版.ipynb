{
 "cells": [
  {
   "cell_type": "code",
   "execution_count": null,
   "metadata": {},
   "outputs": [],
   "source": [
    "<div id='top'>包括以下操作：</div>\n",
    "<li><a href='#1'>111</a></li>\n",
    "<li><a href='#2'></a></li>\n",
    "<li><a href='#3'></a></li>\n",
    "<li><a href='#4'></a></li>\n",
    "<li><a href='#5'></a></li>\n",
    "<li><a href='#6'></a></li>\n",
    "\n",
    "### <a id='1'>Handle_All_File_At_Once</a>  \n",
    "\n",
    "<a href='#top'>▲ Top</a>"
   ]
  },
  {
   "cell_type": "code",
   "execution_count": null,
   "metadata": {},
   "outputs": [],
   "source": []
  }
 ],
 "metadata": {
  "language_info": {
   "name": "python"
  }
 },
 "nbformat": 4,
 "nbformat_minor": 2
}
