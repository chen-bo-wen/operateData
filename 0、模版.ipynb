{
 "cells": [
  {
   "cell_type": "code",
   "execution_count": null,
   "metadata": {},
   "outputs": [],
   "source": [
    "<div id='top'>包括以下操作：</div>\n",
    "<li><a href='#1'>111</a></li>\n",
    "<li><a href='#2'></a></li>\n",
    "<li><a href='#3'></a></li>\n",
    "<li><a href='#4'></a></li>\n",
    "<li><a href='#5'></a></li>\n",
    "<li><a href='#6'></a></li>\n",
    "\n",
    "### <a id='1'>Handle_All_File_At_Once</a>  \n",
    "\n",
    "<a href='#top'>▲ Top</a>"
   ]
  },
  {
   "cell_type": "markdown",
   "metadata": {},
   "source": [
    "命名子文件夹，如：kaggle\\colab，直接就会创建 父文件夹kaggle 和 一个子文件夹colab"
   ]
  },
  {
   "cell_type": "code",
   "execution_count": null,
   "metadata": {},
   "outputs": [],
   "source": [
    "<div style='color:skyblue; font-size:24px'>  </div>"
   ]
  }
 ],
 "metadata": {
  "language_info": {
   "name": "python"
  }
 },
 "nbformat": 4,
 "nbformat_minor": 2
}
