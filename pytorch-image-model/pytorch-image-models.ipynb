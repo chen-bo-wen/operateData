{
 "cells": [
  {
   "cell_type": "markdown",
   "metadata": {},
   "source": [
    "<div id=\"top\">包括以下操作：</div>\n",
    "<li>运行文件</li>\n",
    "<li><a href=\"#1\">inference.py 代码解析</a></li>\n",
    "<li><a href=\"#2\">获取各类别预测准确率</a></li>\n",
    "<li><a href=\"#3\">学习率</a></li>\n",
    "<li><a href=\"#4\">断点续训</a></li>"
   ]
  },
  {
   "cell_type": "markdown",
   "metadata": {},
   "source": [
    "代码里 如：args.include_index, 一般在 parser.add_argument 处就是 --include-index，一个是下划线，一个是小短线。"
   ]
  },
  {
   "cell_type": "markdown",
   "metadata": {},
   "source": [
    "### 运行文件"
   ]
  },
  {
   "cell_type": "markdown",
   "metadata": {},
   "source": [
    "文件运行：https://huggingface.co/docs/timm/training_script"
   ]
  },
  {
   "cell_type": "markdown",
   "metadata": {},
   "source": [
    "#### 运行 train.py 文件"
   ]
  },
  {
   "cell_type": "code",
   "execution_count": null,
   "metadata": {},
   "outputs": [],
   "source": [
    "    # CUDA_VISIBLE_DEVICES='0,1,2,3' python -m torch.distributed.launch --master_port=29508 --nproc_per_node=4 train.py \\\n",
    "    # --data=/App/chenbowen/dataset/eggDataset/dataset \\\n",
    "    # --initial-checkpoint='' \\\n",
    "    # --num-classes=10 \\\n",
    "    # --img-size=552 \\\n",
    "    # --lr=0.05 \\\n",
    "    # --output=chicken_eggs_version_6 \\\n",
    "    # --batch-size=8 \\\n",
    "    # --epochs=100 \\\n",
    "    # --model=efficientnet_b3"
   ]
  },
  {
   "cell_type": "markdown",
   "metadata": {},
   "source": [
    "#### 运行 inference.py 文件"
   ]
  },
  {
   "cell_type": "code",
   "execution_count": null,
   "metadata": {},
   "outputs": [],
   "source": [
    "    # python validate.py \\\n",
    "    # --dataset=/App/chenbowen/dataset/newEggDataset/test \\\n",
    "    # --num-classes=10 \\\n",
    "    # --img-size=552 \\\n",
    "    # --batch-size=5 \\\n",
    "    # --model=efficientnet_b3 \\\n",
    "    # --pretrained=/App/chenbowen/pytorch-image-models-main/chicken_eggs_version_5/20240823-004244-efficientnet_b3-552/model_best.pth.tar"
   ]
  },
  {
   "cell_type": "markdown",
   "metadata": {},
   "source": [
    "### <a id=\"1\">inference.py 代码解析</a>\n",
    "\n",
    "<a href='#top'>▲ Top</a>"
   ]
  },
  {
   "cell_type": "markdown",
   "metadata": {},
   "source": [
    "for batch_idx, (input, _) in enumerate(loader): ， 打印 _ , 得到的就是真实标签。以 tensor 的形式展现。"
   ]
  },
  {
   "cell_type": "markdown",
   "metadata": {},
   "source": [
    "![image.png](./inference/1-1.png)"
   ]
  },
  {
   "cell_type": "markdown",
   "metadata": {},
   "source": [
    "取 target.tolist() 就得到下面的：\n",
    "\n",
    "![image.png](./inference/1-2.png)"
   ]
  },
  {
   "cell_type": "markdown",
   "metadata": {},
   "source": [
    "`.softmax(-1)` 是一个用于计算张量最后一个维度上的 softmax 函数的操作。softmax 函数用于将向量的每个元素转换为介于 0 和 1 之间的概率值，并使这些概率值的总和等于 1。"
   ]
  },
  {
   "cell_type": "markdown",
   "metadata": {},
   "source": [
    "![image.png](./inference/2.png)"
   ]
  },
  {
   "cell_type": "markdown",
   "metadata": {},
   "source": [
    "![image.png](./inference/3.png)"
   ]
  },
  {
   "cell_type": "code",
   "execution_count": null,
   "metadata": {},
   "outputs": [],
   "source": [
    "    all_indices = np.concatenate(all_indices, axis=0) if all_indices else None # 记录所有的标签\n",
    "\n",
    "    all_outputs = np.concatenate(all_outputs, axis=0).astype(np.float32) # 记录所有最大概率是多少"
   ]
  },
  {
   "cell_type": "markdown",
   "metadata": {},
   "source": [
    "PyTorch 获取 Tensor 值的三种方法：item()、tolist() 与 .numpy(): https://cloud.baidu.com/article/2677107"
   ]
  },
  {
   "cell_type": "markdown",
   "metadata": {},
   "source": [
    "### <a id=\"2\">获取各类别预测准确率</a>\n",
    "\n",
    "<a href='#top'>▲ Top</a>"
   ]
  },
  {
   "cell_type": "code",
   "execution_count": null,
   "metadata": {},
   "outputs": [],
   "source": [
    "    for i in range(10):  # 种类的数量\n",
    "        denominator = list(true_labels).count(i)     # 从list里获取i的数量，得到各类的样本数量\n",
    "        numerator = np.equal(true_labels, i) & np.equal(all_indices, i)  # 分别从真值、预测值中筛选目标值,并与计算 得出正确的个体\n",
    "        numerator = np.sum(numerator==1)        # 统计所有正确的个体\n",
    " \n",
    "        print('Accuracy of {:2d}: {:.5f}'.format(i,numerator/denominator))"
   ]
  },
  {
   "cell_type": "markdown",
   "metadata": {},
   "source": [
    "### <a id=\"3\">学习率</a>\n",
    "\n",
    "<a href='#top'>▲ Top</a>"
   ]
  },
  {
   "cell_type": "markdown",
   "metadata": {},
   "source": [
    "1.771e-02 是科学计数法表示的数字，它可以转换为常规的数字形式。在这种表示法中，`e-02` 表示将小数点向左移动两位，即乘以 10 的负二次方。因此，1.771e-02 实际上等于 0.01771。\n",
    "\n",
    "所以，1.771e-02 表示的数字是 0.01771。这种表示法通常用于表示非常小的数值或在科学计算中处理较小的数值。"
   ]
  },
  {
   "cell_type": "code",
   "execution_count": null,
   "metadata": {},
   "outputs": [],
   "source": []
  },
  {
   "cell_type": "markdown",
   "metadata": {},
   "source": [
    "### <a id=\"4\">断点续训</a>\n",
    "\n",
    "<a href='#top'>▲ Top</a>"
   ]
  },
  {
   "cell_type": "code",
   "execution_count": null,
   "metadata": {},
   "outputs": [],
   "source": [
    "    # 使用 resume 进行断点续训 \n",
    "\n",
    "    CUDA_VISIBLE_DEVICES='0,1,2,3' python -m torch.distributed.launch --master_port=29508 --nproc_per_node=4 train.py \\\n",
    "    --data=/App/chenbowen/dataset/colorClassifyData/dataset \\\n",
    "    --initial-checkpoint='' \\\n",
    "    --num-classes=3 \\\n",
    "    --img-size=552 \\\n",
    "    --lr=0.05 \\\n",
    "    --output=chicken_eggs_version_color \\\n",
    "    --batch-size=16 \\\n",
    "    --resume=/App/chenbowen/pytorch-image-models-main/chicken_eggs_version_color/20240920-021305-efficientnet_b3-552/last.pth.tar \\\n",
    "    --epochs=100 \\\n",
    "    --model=efficientnet_b3"
   ]
  }
 ],
 "metadata": {
  "language_info": {
   "name": "python"
  }
 },
 "nbformat": 4,
 "nbformat_minor": 2
}
