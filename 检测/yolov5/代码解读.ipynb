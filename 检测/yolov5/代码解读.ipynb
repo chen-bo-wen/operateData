{
 "cells": [
  {
   "cell_type": "markdown",
   "metadata": {},
   "source": [
    "<div id='top'>包括以下操作：</div>\n",
    "<li><a href='#1'>train.py</a></li>\n",
    "<li><a href='#1-1'>断点续训</a></li>\n",
    "<li><a href='#2'>detect.py</a></li>\n",
    "<li><a href='#3'>torch_utils.py</a></li>\n",
    "<li><a href='#4'></a></li>\n",
    "<li><a href='#5'></a></li>\n",
    "<li><a href='#6'></a></li>"
   ]
  },
  {
   "cell_type": "markdown",
   "metadata": {},
   "source": [
    "[手把手带你调参Yolo v5](https://blog.csdn.net/weixin_42645636/article/details/128863986)"
   ]
  },
  {
   "cell_type": "markdown",
   "metadata": {},
   "source": [
    "[简易教程](https://lightningleader.github.io/posts/15.html)"
   ]
  },
  {
   "cell_type": "markdown",
   "metadata": {},
   "source": [
    "读取所有数据\n",
    "\n",
    "数据处理：图片和xml；有的图片没有相应的xml文件，删除；即使 图片 和 xml文件 相对应了，但是 xml文件 里没有标注框，删除。\n",
    "\n",
    "对数据集进行划分\n",
    "\n",
    "将 xml文件转为 txt文件 （即记录标注框的标签及坐标位置(左上角x，y 右下角 x，y)）\n",
    "\n",
    "记录位置后，再将值变为 0~1 之间(数据归一化 xywh2xyxy坐标转换函数)。因为 xml 文件里记录了图片的大小，和标注框的坐标，因此在归一化时，标注框也不会出现位移的情况。\n",
    "\n",
    "<div style='color:lightblue;'>（对于YOLO算法中的边界框（Bounding Box）标注，它们通常以中心点坐标（x, y）和宽度（w）、高度（h）的形式表示（即xywh格式））</div>"
   ]
  },
  {
   "cell_type": "markdown",
   "metadata": {},
   "source": [
    "![](1.png)\n",
    "![](2.png)"
   ]
  },
  {
   "cell_type": "markdown",
   "metadata": {},
   "source": [
    "<div style='color:skyblue; font-size:24px'>将 xml/json 文件转为 txt文件</div>"
   ]
  },
  {
   "cell_type": "markdown",
   "metadata": {},
   "source": [
    "转变后的 txt文件 格式如下：\n",
    "\n",
    "0 0.166015625 0.11669921875 0.056640625 0.0859375\n",
    "\n",
    "1 0.6826171875 0.114013671875 0.049479166666666664 0.06591796875\n",
    "\n",
    "顺序是 标签，以及标注框的坐标(左上角x，y 右下角 x，y)。上面举例一共有两个标注框。"
   ]
  },
  {
   "cell_type": "markdown",
   "metadata": {},
   "source": [
    "<div style='color:skyblue; font-size:24px' id='1'>train.py</div>\n",
    "\n",
    "<a href='#top'>▲ Top</a>"
   ]
  },
  {
   "cell_type": "code",
   "execution_count": null,
   "metadata": {},
   "outputs": [],
   "source": [
    "    # CUDA_VISIBLE_DEVICES='0,1,2,3' python -m torch.distributed.launch --master_port=29507 --nproc_per_node=4 --use_env train.py \\\n",
    "    # --imgsz=1088 \\\n",
    "    # --batch-size=128 \\\n",
    "    # --epochs=100 \\\n",
    "    # --data=data/chickenBlood.yaml \\\n",
    "    # --cfg=models/yolov5s.yaml \\\n",
    "    # --hyp=data/hyps/hyp.scratch-high.yaml \\\n",
    "    # --weights=yolov5s.pt \\\n",
    "    # --workers=32 \\\n",
    "    # --cache disk \\\n",
    "    # --multi-scale\n",
    "    # --single-cls"
   ]
  },
  {
   "cell_type": "markdown",
   "metadata": {},
   "source": [
    "<div style='color:skyblue; font-size:24px' id='1-1'>断点续训</div>\n",
    "\n",
    "<a href='#top'>▲ Top</a>"
   ]
  },
  {
   "cell_type": "markdown",
   "metadata": {},
   "source": [
    "[参考文章1](https://blog.csdn.net/CharmsLUO/article/details/123410081)\n",
    "\n",
    "[参考文章2](https://blog.csdn.net/m0_52388979/article/details/130246384)"
   ]
  },
  {
   "cell_type": "code",
   "execution_count": null,
   "metadata": {},
   "outputs": [],
   "source": [
    "    ### ？？？ 为什么没有 val 的图？？？？\n",
    "\n",
    "    # CUDA_VISIBLE_DEVICES='0,1,2,3' python -m torch.distributed.launch --master_port=29507 --nproc_per_node=4 --use_env train.py \\\n",
    "    # --imgsz=1088 \\\n",
    "    # --batch-size=128 \\\n",
    "    # --epochs=100 \\\n",
    "    # --data=data/chickenBlood.yaml \\\n",
    "    # --cfg=models/yolov5s.yaml \\\n",
    "    # --hyp=data/hyps/hyp.scratch-high.yaml \\\n",
    "    # --workers=32 \\\n",
    "    # --cache disk \\\n",
    "    # --resume=runs/train/exp6/weights/last.pt \\\n",
    "    # --multi-scale"
   ]
  },
  {
   "cell_type": "markdown",
   "metadata": {},
   "source": [
    "<div style='color:skyblue; font-size:24px' id='2'>detect.py: 用来测试模型效果</div>\n",
    "\n",
    "<a href='#top'>▲ Top</a>\n",
    "\n",
    "[detect.py 代码解析](https://blog.csdn.net/sinat_41942180/article/details/129280379)\n",
    "\n",
    "[yolov5——detect.py代码【注释、详解、使用教程】](https://blog.csdn.net/CharmsLUO/article/details/123422822)"
   ]
  },
  {
   "cell_type": "code",
   "execution_count": null,
   "metadata": {},
   "outputs": [],
   "source": [
    "is_file = Path(source).suffix[1:] in (IMG_FORMATS + VID_FORMATS) # \"[1:]\"表示从第二个字符开始取出后缀名，因为第一个字符是\".\""
   ]
  },
  {
   "cell_type": "markdown",
   "metadata": {},
   "source": [
    "[python[::-1]和[-1]用法](https://blog.csdn.net/HARDBIRD123/article/details/82261651)"
   ]
  },
  {
   "cell_type": "markdown",
   "metadata": {},
   "source": [
    "<div style='color:skyblue; font-size:24px' id='3'>【YOLOV5-5.x 源码解读】torch_utils.py</div>\n",
    "\n",
    "<a href='#top'>▲ Top</a>\n",
    "\n",
    "[torch_utils.py](https://blog.csdn.net/qq_38253797/article/details/119214728)"
   ]
  },
  {
   "cell_type": "markdown",
   "metadata": {},
   "source": [
    "<div style='color:skyblue; font-size:24px'>cache</div>\n",
    "\n",
    "[优化图片加载时间，加速训练。](https://blog.csdn.net/ogebgvictor/article/details/129784503)\n",
    "\n",
    "Yolov5在跑数据集的时候，会在label文件夹里产生两个缓存文件，在更改文件夹目录的时候需要删掉，不然会出现找不到Image not found的问题。\n"
   ]
  }
 ],
 "metadata": {
  "language_info": {
   "name": "python"
  }
 },
 "nbformat": 4,
 "nbformat_minor": 2
}
